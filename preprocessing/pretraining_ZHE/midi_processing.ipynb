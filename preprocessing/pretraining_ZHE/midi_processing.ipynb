{
 "cells": [
  {
   "cell_type": "markdown",
   "metadata": {},
   "source": [
    "# coding: utf-8\n",
    "\n",
    "# # Import raw data (all midi files) and export pre-test data (single track midi files for guitar, piano or strings)\n",
    "\n",
    "# ## 1. Import modules and set the path to where the midi files are"
   ]
  },
  {
   "cell_type": "code",
   "execution_count": null,
   "metadata": {
    "collapsed": true
   },
   "outputs": [],
   "source": [
    "\n",
    "from mido import MidiFile\n",
    "import os\n",
    "path = r'/Users/dragon/Desktop/Project/MIdi tracks'\n",
    "\n",
    "print('Numbers counting：')\n"
   ]
  },
  {
   "cell_type": "markdown",
   "metadata": {},
   "source": [
    "# ## 2. Scan all files that end with \".mid\", and turn them into objects"
   ]
  },
  {
   "cell_type": "code",
   "execution_count": null,
   "metadata": {},
   "outputs": [],
   "source": [
    "totalfiles = []\n",
    "for path, dirs, files in os.walk(path):\n",
    "    for filename in files:\n",
    "        if (filename.endswith('.MID')) or (filename.endswith('.mid')):\n",
    "            fullpath = os.path.join(path, filename)\n",
    "            try:\n",
    "                mid = MidiFile(fullpath)\n",
    "                totalfiles.append(mid)\n",
    "            except:\n",
    "                continue\n",
    "#Show how many midi we got\n",
    "num_total=len(totalfiles)\n",
    "print('\\t'*2,'Total number of midi files:',num_total)"
   ]
  },
  {
   "cell_type": "markdown",
   "metadata": {},
   "source": []
  },
  {
   "cell_type": "code",
   "execution_count": null,
   "metadata": {},
   "outputs": [],
   "source": [
    "selectedtracks_guitar = []\n",
    "for i in totalfiles:\n",
    "    m = 0\n",
    "    for j, track in enumerate(i.tracks):\n",
    "        if ('guitar' in track.name) or ('Guitar' in track.name) or ('acoustic guitar' in track.name) or ('Acoustic Guitar' in track.name) or ('Acoustic guitar' in track.name):\n",
    "            selectedtracks_guitar.append(track)\n",
    "#Show how many tracks we got\n",
    "num_guitar=len(selectedtracks_guitar)\n",
    "print('\\t'*2,'Number of guitar tracks:',num_guitar)"
   ]
  },
  {
   "cell_type": "markdown",
   "metadata": {},
   "source": [
    "# ## 4. Do the same for 'piano'"
   ]
  },
  {
   "cell_type": "code",
   "execution_count": null,
   "metadata": {},
   "outputs": [],
   "source": [
    "selectedtracks_piano = []\n",
    "for i in totalfiles:\n",
    "    m = 0\n",
    "    for j, track in enumerate(i.tracks):\n",
    "        if ('piano' in track.name) or ('Piano' in track.name) or ('Left piano' in track.name) or ('Right piano' in track.name) or ('Left Piano' in track.name) or ('Right Piano' in track.name):\n",
    "            selectedtracks_piano.append(track)\n",
    "#Show how many tracks we got\n",
    "num_piano=len(selectedtracks_piano)\n",
    "print('\\t'*2,'Number of piano tracks:',num_piano)"
   ]
  },
  {
   "cell_type": "markdown",
   "metadata": {},
   "source": [
    "# ## 5. Do the same for 'strings'"
   ]
  },
  {
   "cell_type": "code",
   "execution_count": null,
   "metadata": {},
   "outputs": [],
   "source": [
    "selectedtracks_strings = []\n",
    "for i in totalfiles:\n",
    "    m = 0\n",
    "    for j, track in enumerate(i.tracks):\n",
    "        if ('Violin' in track.name) or ('Cuerdas1' in track.name) or ('Cuerdas2' in track.name) or ('Viola' in track.name) or ('Cello' in track.name) or ('Violoncello' in track.name):\n",
    "            selectedtracks_strings.append(track)\n",
    "#Show how many tracks we got\n",
    "num_strings=len(selectedtracks_strings)\n",
    "print('\\t'*2,'Number of strings tracks:',num_strings)"
   ]
  },
  {
   "cell_type": "markdown",
   "metadata": {},
   "source": []
  },
  {
   "cell_type": "code",
   "execution_count": null,
   "metadata": {},
   "outputs": [],
   "source": [
    "from mido import Message, MidiFile, MidiTrack\n",
    "\n",
    "mid = MidiFile()\n",
    "mid.tracks.append(track)\n",
    "\n",
    "\n",
    "for i in range(0,len(selectedtracks_guitar)):\n",
    "    mid = MidiFile()\n",
    "    track = selectedtracks_guitar[i]\n",
    "    mid.tracks.append(track)\n",
    "    mid.save('/Users/dragon/Desktop/Project/New midi/Guitar/new_guitar{}.mid'.format(i))\n",
    "    #Show progress\n",
    "    print(i if i%5 == 0 else ' ', end = '')\n",
    "\n",
    "for i in range(0,len(selectedtracks_piano)):\n",
    "    mid = MidiFile()\n",
    "    track = selectedtracks_piano[i]\n",
    "    mid.tracks.append(track)\n",
    "    mid.save('/Users/dragon/Desktop/Project/New midi/Piano/new_piano{}.mid'.format(i))\n",
    "    #Show progress\n",
    "    print(i if i%5 == 0 else ' ', end = '')\n",
    "\n",
    "\n",
    "for i in range(0,len(selectedtracks_strings)):\n",
    "    mid = MidiFile()\n",
    "    track = selectedtracks_strings[i]\n",
    "    mid.tracks.append(track)\n",
    "    mid.save('/Users/dragon/Desktop/Project/New midi/Strings/new_strings{}.mid'.format(i))\n",
    "    #Show progress\n",
    "    print(i if i%5 == 0 else ' ', end = '')\n",
    "\n",
    "\n",
    "for i, track in enumerate(mid.tracks):\n",
    "    print('Track {}: {}'.format(i, track.name))"
   ]
  }
 ],
 "metadata": {
  "kernelspec": {
   "display_name": "Python 2",
   "language": "python",
   "name": "python2"
  },
  "language_info": {
   "codemirror_mode": {
    "name": "ipython",
    "version": 2
   },
   "file_extension": ".py",
   "mimetype": "text/x-python",
   "name": "python",
   "nbconvert_exporter": "python",
   "pygments_lexer": "ipython2",
   "version": "2.7.6"
  }
 },
 "nbformat": 4,
 "nbformat_minor": 0
}
