{
 "cells": [
  {
   "cell_type": "markdown",
   "metadata": {},
   "source": [
    "# Import raw data (all midi files) and export pre-test data (single track midi files for guitar, piano or strings)"
   ]
  },
  {
   "cell_type": "markdown",
   "metadata": {},
   "source": [
    "## 1. Import modules and set the path to where the midi files are"
   ]
  },
  {
   "cell_type": "code",
   "execution_count": 9,
   "metadata": {
    "collapsed": true
   },
   "outputs": [],
   "source": [
    "from mido import MidiFile\n",
    "import os\n",
    "path = r'E:\\Desktop\\MLFproject\\MIDI_file\\test_select'"
   ]
  },
  {
   "cell_type": "markdown",
   "metadata": {},
   "source": [
    "## 2. Scan all files that end with \".mid\", and turn them into objects"
   ]
  },
  {
   "cell_type": "code",
   "execution_count": 10,
   "metadata": {
    "scrolled": false
   },
   "outputs": [
    {
     "data": {
      "text/plain": [
       "208"
      ]
     },
     "execution_count": 10,
     "metadata": {},
     "output_type": "execute_result"
    }
   ],
   "source": [
    "totalfiles = []\n",
    "for path, dirs, files in os.walk(path):\n",
    "    for filename in files:\n",
    "        if (filename.endswith('.MID')) or (filename.endswith('.mid')):\n",
    "            fullpath = os.path.join(path, filename)\n",
    "            try:\n",
    "                mid = MidiFile(fullpath)\n",
    "                totalfiles.append(mid)\n",
    "            except:\n",
    "                continue\n",
    "#Show how many midi we got\n",
    "len(totalfiles)"
   ]
  },
  {
   "cell_type": "markdown",
   "metadata": {},
   "source": [
    "## 3. Select those with track name 'guitar' "
   ]
  },
  {
   "cell_type": "code",
   "execution_count": 11,
   "metadata": {},
   "outputs": [
    {
     "data": {
      "text/plain": [
       "100"
      ]
     },
     "execution_count": 11,
     "metadata": {},
     "output_type": "execute_result"
    }
   ],
   "source": [
    "selectedtracks = []\n",
    "for i in totalfiles:\n",
    "    m = 0\n",
    "    for j, track in enumerate(i.tracks):\n",
    "        if ('guitar' in track.name) or ('Guitar' in track.name) or ('acoustic guitar' in track.name) or ('Acoustic Guitar' in track.name) or ('Acoustic guitar' in track.name):\n",
    "            selectedtracks.append(track)\n",
    "#Show how many tracks we got\n",
    "len(selectedtracks)"
   ]
  },
  {
   "cell_type": "markdown",
   "metadata": {},
   "source": [
    "## 4. Cut every track to a same length, probably 30 seconds. See: https://mido.readthedocs.io/en/latest/midi_files.html"
   ]
  },
  {
   "cell_type": "markdown",
   "metadata": {
    "collapsed": true
   },
   "source": [
    "## 5. Put each 30s-track in a new midi file, see also: https://mido.readthedocs.io/en/latest/midi_files.html"
   ]
  },
  {
   "cell_type": "markdown",
   "metadata": {
    "collapsed": true
   },
   "source": [
    "## 6. Do the same for 'piano'"
   ]
  },
  {
   "cell_type": "markdown",
   "metadata": {
    "collapsed": true
   },
   "source": [
    "## 7. Do the same for 'strings'"
   ]
  },
  {
   "cell_type": "code",
   "execution_count": null,
   "metadata": {
    "collapsed": true
   },
   "outputs": [],
   "source": [
    "# #\n",
    "# totalfiles = []\n",
    "# for path, dirs, files in os.walk(path):\n",
    "#     for filename in files:\n",
    "#         if (filename.endswith('.MID')) or (filename.endswith('.mid')):\n",
    "#             fullpath = os.path.join(path, filename)\n",
    "#             try:\n",
    "#                 mid = MidiFile(fullpath)\n",
    "#                 totalfiles.append(mid)\n",
    "#             except:\n",
    "#                 continue\n",
    "# #Show how many midi we got\n",
    "# len(totalfiles)"
   ]
  },
  {
   "cell_type": "code",
   "execution_count": null,
   "metadata": {
    "collapsed": true
   },
   "outputs": [],
   "source": [
    "# selectedmidi = []\n",
    "# for i in totalfiles:\n",
    "#     m = 0\n",
    "#     n = 0\n",
    "#     for j, track in enumerate(i.tracks):\n",
    "#         if (track.name == 'guitar') or (track.name == 'Guitar') or (track.name == 'acoustic guitar') or (track.name == 'Acoustic Guitar') or (track.name == 'Acoustic guitar'):\n",
    "#             m = 1\n",
    "#         if (track.name == 'voice') or (track.name == 'Voice') or (track.name == 'VOICE') or (track.name == 'vocal') or (track.name == 'Vocal') or (track.name == 'VOCAL') :\n",
    "#             n = 1\n",
    "#     if (m == 1) and (n == 1):\n",
    "#         selectedmidi.append(i)"
   ]
  },
  {
   "cell_type": "markdown",
   "metadata": {},
   "source": [
    "## Show messages in the first selected track"
   ]
  },
  {
   "cell_type": "code",
   "execution_count": 12,
   "metadata": {},
   "outputs": [
    {
     "name": "stdout",
     "output_type": "stream",
     "text": [
      "<meta message track_name name='guitare nylon' time=0>\n",
      "<meta message midi_port port=0 time=0>\n",
      "<meta message channel_prefix channel=5 time=0>\n",
      "<meta message channel_prefix channel=6 time=0>\n",
      "control_change channel=4 control=100 value=0 time=0\n",
      "control_change channel=4 control=101 value=0 time=0\n",
      "control_change channel=5 control=100 value=0 time=0\n",
      "control_change channel=5 control=101 value=0 time=0\n",
      "control_change channel=4 control=7 value=121 time=0\n",
      "control_change channel=5 control=7 value=121 time=0\n",
      "control_change channel=4 control=10 value=64 time=0\n",
      "control_change channel=5 control=10 value=64 time=0\n",
      "control_change channel=4 control=93 value=0 time=0\n",
      "control_change channel=5 control=93 value=0 time=0\n",
      "control_change channel=4 control=91 value=127 time=0\n",
      "control_change channel=5 control=91 value=127 time=0\n",
      "program_change channel=4 program=24 time=0\n",
      "program_change channel=5 program=24 time=0\n",
      "control_change channel=5 control=6 value=8 time=0\n",
      "note_on channel=4 note=40 velocity=111 time=30720\n",
      "note_off channel=4 note=40 velocity=80 time=960\n",
      "note_on channel=4 note=40 velocity=111 time=52800\n",
      "note_off channel=4 note=40 velocity=80 time=960\n",
      "note_on channel=4 note=40 velocity=111 time=14400\n",
      "note_off channel=4 note=40 velocity=80 time=960\n",
      "note_on channel=4 note=40 velocity=111 time=45120\n",
      "note_off channel=4 note=40 velocity=80 time=960\n",
      "<meta message end_of_track time=0>\n"
     ]
    }
   ],
   "source": [
    "for i in selectedtracks[0:1]:\n",
    "    for msg in track:\n",
    "        print(msg)\n",
    "# print(selectedtracks[0])"
   ]
  },
  {
   "cell_type": "code",
   "execution_count": 1,
   "metadata": {
    "collapsed": true
   },
   "outputs": [],
   "source": [
    "# for i in selectedmidi:\n",
    "#     for j, track in enumerate(i.tracks):\n",
    "#         print('Track {}: {}'.format(j, track.name))"
   ]
  },
  {
   "cell_type": "code",
   "execution_count": null,
   "metadata": {
    "collapsed": true
   },
   "outputs": [],
   "source": []
  }
 ],
 "metadata": {
  "kernelspec": {
   "display_name": "Python 3",
   "language": "python",
   "name": "python3"
  },
  "language_info": {
   "codemirror_mode": {
    "name": "ipython",
    "version": 3
   },
   "file_extension": ".py",
   "mimetype": "text/x-python",
   "name": "python",
   "nbconvert_exporter": "python",
   "pygments_lexer": "ipython3",
   "version": "3.6.3"
  }
 },
 "nbformat": 4,
 "nbformat_minor": 2
}
