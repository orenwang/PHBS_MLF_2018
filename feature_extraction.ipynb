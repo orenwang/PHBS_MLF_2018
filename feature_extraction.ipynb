{
 "cells": [
  {
   "cell_type": "code",
   "execution_count": 1,
   "metadata": {
    "collapsed": true
   },
   "outputs": [],
   "source": [
    "import numpy as np\n",
    "import pandas as pd\n",
    "import librosa\n",
    "import csv\n",
    "import os\n",
    "from sklearn.model_selection import train_test_split\n",
    "import matplotlib.pyplot as plt\n",
    "\n",
    "guitar_path = r'E:\\Desktop\\midi_ready\\mtrain\\guitar'\n",
    "piano_path = r'E:\\Desktop\\midi_ready\\mtrain\\piano'\n",
    "strings_path = r'E:\\Desktop\\midi_ready\\mtrain\\strings'"
   ]
  },
  {
   "cell_type": "markdown",
   "metadata": {},
   "source": [
    "## Initiate a new .csv"
   ]
  },
  {
   "cell_type": "code",
   "execution_count": 2,
   "metadata": {
    "collapsed": true
   },
   "outputs": [],
   "source": [
    "headers = [\"MFCC01\", \"MFCC02\", \"MFCC03\",\"MFCC04\", \"MFCC05\", \"MFCC06\",\"MFCC07\", \"MFCC08\", \"MFCC09\",\"MFCC10\", \"MFCC11\", \"MFCC12\",\"MFCC13\", \"MFCC14\", \"MFCC15\",\"MFCC16\", \"MFCC17\", \"MFCC18\",\"MFCC19\", \"MFCC20\", \"MFCC_delta01\", \"MFCC_delta02\", \"MFCC_delta03\",\"MFCC_delta04\", \"MFCC_delta05\", \"MFCC_delta06\",\"MFCC_delta07\", \"MFCC_delta08\", \"MFCC_delta09\",\"MFCC_delta10\", \"MFCC_delta11\", \"MFCC_delta12\",\"MFCC_delta13\", \"MFCC_delta14\", \"MFCC_delta15\",\"MFCC_delta16\", \"MFCC_delta17\", \"MFCC_delta18\",\"MFCC_delta19\", \"MFCC_delta20\", \"Class\"]\n",
    "guitar = ([['1'],['1'],['1'],['1'],['1'],['1'],['1'],['1'],['1'],['1'],['1'],['1'],['1'],['1'],['1'],['1'],['1'],['1'],['1'],['1'],['1'],['1'],['1'],['1'],['1'],['1'],['1'],['1'],['1'],['1'],])\n",
    "piano = ([['2'],['2'],['2'],['2'],['2'],['2'],['2'],['2'],['2'],['2'],['2'],['2'],['2'],['2'],['2'],['2'],['2'],['2'],['2'],['2'],['2'],['2'],['2'],['2'],['2'],['2'],['2'],['2'],['2'],['2'],])\n",
    "strings = ([['3'],['3'],['3'],['3'],['3'],['3'],['3'],['3'],['3'],['3'],['3'],['3'],['3'],['3'],['3'],['3'],['3'],['3'],['3'],['3'],['3'],['3'],['3'],['3'],['3'],['3'],['3'],['3'],['3'],['3'],])"
   ]
  },
  {
   "cell_type": "code",
   "execution_count": 3,
   "metadata": {
    "collapsed": true
   },
   "outputs": [],
   "source": [
    "with open('E:\\Desktop\\msec_mfcc.csv', 'w') as outcsv:\n",
    "    writer = csv.writer(outcsv)\n",
    "    writer.writerow(headers)"
   ]
  },
  {
   "cell_type": "markdown",
   "metadata": {},
   "source": [
    "# 1. Guitar"
   ]
  },
  {
   "cell_type": "markdown",
   "metadata": {},
   "source": [
    "## Find .wav files"
   ]
  },
  {
   "cell_type": "code",
   "execution_count": 4,
   "metadata": {},
   "outputs": [
    {
     "name": "stdout",
     "output_type": "stream",
     "text": [
      "    5    10"
     ]
    }
   ],
   "source": [
    "totalaudios = []\n",
    "i = 0\n",
    "#for fname in random.choice(os.listdir(path)):\n",
    "for fname in os.listdir(guitar_path):\n",
    "    if (fname.endswith('.wav')):\n",
    "        path = os.path.join(guitar_path, fname)\n",
    "        totalaudios.append(path)\n",
    "        i += 1\n",
    "        #Show progress\n",
    "        print(i if i%5 == 0 else ' ', end = '')"
   ]
  },
  {
   "cell_type": "markdown",
   "metadata": {},
   "source": [
    "## Extract features and write into .csv"
   ]
  },
  {
   "cell_type": "code",
   "execution_count": 5,
   "metadata": {},
   "outputs": [
    {
     "name": "stderr",
     "output_type": "stream",
     "text": [
      "E:\\python\\lib\\site-packages\\scipy\\signal\\_arraytools.py:45: FutureWarning: Using a non-tuple sequence for multidimensional indexing is deprecated; use `arr[tuple(seq)]` instead of `arr[seq]`. In the future this will be interpreted as an array index, `arr[np.array(seq)]`, which will result either in an error or a different result.\n",
      "  b = a[a_slice]\n"
     ]
    },
    {
     "name": "stdout",
     "output_type": "stream",
     "text": [
      "0    5    "
     ]
    }
   ],
   "source": [
    "#Set sampling rate, hop length & 1-sec frames\n",
    "sr1 = 10000\n",
    "hop_length = 250\n",
    "sec_frames = []\n",
    "for i in range(0, 29):\n",
    "    sec_frames.append((i+1)*40)\n",
    "\n",
    "# Obtain mfcc\n",
    "for i in range(0, len(totalaudios)):\n",
    "    y, sr = librosa.load(totalaudios[i])\n",
    "    mfcc = librosa.feature.mfcc(y=y, sr=sr1, hop_length=hop_length, n_mfcc=20)\n",
    "    mfcc_delta = librosa.feature.delta(mfcc)\n",
    "    \n",
    "    # Sync to get 1-sec pieces, then tranpose\n",
    "    sec_mfcc = librosa.util.sync(mfcc,sec_frames)\n",
    "    sec_mfcc_delta = librosa.util.sync(mfcc_delta,sec_frames)\n",
    "    sec_mfcc = np.transpose(sec_mfcc)\n",
    "    sec_mfcc_delta = np.transpose(sec_mfcc_delta)\n",
    "    # Add a column to tell every row is guitar\n",
    "    all_data = np.hstack((sec_mfcc, sec_mfcc_delta, guitar))\n",
    "    myFile = open('E:\\Desktop\\msec_mfcc.csv', 'a')\n",
    "    with myFile:\n",
    "        writer = csv.writer(myFile,lineterminator = '\\n')\n",
    "        writer.writerows(all_data)\n",
    "    #Show progress\n",
    "    print(i if i%5 == 0 else ' ', end = '')\n",
    "\n"
   ]
  },
  {
   "cell_type": "markdown",
   "metadata": {},
   "source": [
    "# 2. Piano"
   ]
  },
  {
   "cell_type": "markdown",
   "metadata": {},
   "source": [
    "## Find .wav files"
   ]
  },
  {
   "cell_type": "code",
   "execution_count": 6,
   "metadata": {},
   "outputs": [
    {
     "name": "stdout",
     "output_type": "stream",
     "text": [
      "    5    10"
     ]
    }
   ],
   "source": [
    "totalaudios = []\n",
    "i = 0\n",
    "#for fname in random.choice(os.listdir(path)):\n",
    "for fname in os.listdir(piano_path):\n",
    "    if (fname.endswith('.wav')):\n",
    "        path = os.path.join(piano_path, fname)\n",
    "        totalaudios.append(path)\n",
    "        i += 1\n",
    "        #Show progress\n",
    "        print(i if i%5 == 0 else ' ', end = '')"
   ]
  },
  {
   "cell_type": "markdown",
   "metadata": {},
   "source": [
    "## Extract features and write into .csv"
   ]
  },
  {
   "cell_type": "code",
   "execution_count": 7,
   "metadata": {},
   "outputs": [
    {
     "name": "stderr",
     "output_type": "stream",
     "text": [
      "E:\\python\\lib\\site-packages\\scipy\\signal\\_arraytools.py:45: FutureWarning: Using a non-tuple sequence for multidimensional indexing is deprecated; use `arr[tuple(seq)]` instead of `arr[seq]`. In the future this will be interpreted as an array index, `arr[np.array(seq)]`, which will result either in an error or a different result.\n",
      "  b = a[a_slice]\n"
     ]
    },
    {
     "name": "stdout",
     "output_type": "stream",
     "text": [
      "0    5    "
     ]
    }
   ],
   "source": [
    "#Set sampling rate, hop length & 1-sec frames\n",
    "sr1 = 10000\n",
    "hop_length = 250\n",
    "sec_frames = []\n",
    "for i in range(0, 29):\n",
    "    sec_frames.append((i+1)*40)\n",
    "\n",
    "# Obtain mfcc\n",
    "for i in range(0, len(totalaudios)):\n",
    "    y, sr = librosa.load(totalaudios[i])\n",
    "    mfcc = librosa.feature.mfcc(y=y, sr=sr1, hop_length=hop_length, n_mfcc=20)\n",
    "    mfcc_delta = librosa.feature.delta(mfcc)\n",
    "    \n",
    "    # Sync to get 1-sec pieces, then tranpose\n",
    "    sec_mfcc = librosa.util.sync(mfcc,sec_frames)\n",
    "    sec_mfcc_delta = librosa.util.sync(mfcc_delta,sec_frames)\n",
    "    sec_mfcc = np.transpose(sec_mfcc)\n",
    "    sec_mfcc_delta = np.transpose(sec_mfcc_delta)\n",
    "    # Add a column to tell every row is piano\n",
    "    all_data = np.hstack((sec_mfcc, sec_mfcc_delta, piano))\n",
    "    myFile = open('E:\\Desktop\\msec_mfcc.csv', 'a')\n",
    "    with myFile:\n",
    "        writer = csv.writer(myFile,lineterminator = '\\n')\n",
    "        writer.writerows(all_data)\n",
    "    #Show progress\n",
    "    print(i if i%5 == 0 else ' ', end = '')\n",
    "\n"
   ]
  },
  {
   "cell_type": "markdown",
   "metadata": {},
   "source": [
    "# 3. Strings"
   ]
  },
  {
   "cell_type": "markdown",
   "metadata": {},
   "source": [
    "## Find .wav files"
   ]
  },
  {
   "cell_type": "code",
   "execution_count": 8,
   "metadata": {},
   "outputs": [
    {
     "name": "stdout",
     "output_type": "stream",
     "text": [
      "    5    10"
     ]
    }
   ],
   "source": [
    "totalaudios = []\n",
    "i = 0\n",
    "#for fname in random.choice(os.listdir(path)):\n",
    "for fname in os.listdir(strings_path):\n",
    "    if (fname.endswith('.wav')):\n",
    "        path = os.path.join(strings_path, fname)\n",
    "        totalaudios.append(path)\n",
    "        i += 1\n",
    "        #Show progress\n",
    "        print(i if i%5 == 0 else ' ', end = '')"
   ]
  },
  {
   "cell_type": "markdown",
   "metadata": {},
   "source": [
    "## Extract features and write into .csv"
   ]
  },
  {
   "cell_type": "code",
   "execution_count": 9,
   "metadata": {},
   "outputs": [
    {
     "name": "stderr",
     "output_type": "stream",
     "text": [
      "E:\\python\\lib\\site-packages\\scipy\\signal\\_arraytools.py:45: FutureWarning: Using a non-tuple sequence for multidimensional indexing is deprecated; use `arr[tuple(seq)]` instead of `arr[seq]`. In the future this will be interpreted as an array index, `arr[np.array(seq)]`, which will result either in an error or a different result.\n",
      "  b = a[a_slice]\n"
     ]
    },
    {
     "name": "stdout",
     "output_type": "stream",
     "text": [
      "0    5    "
     ]
    }
   ],
   "source": [
    "#Set sampling rate, hop length & 1-sec frames\n",
    "sr1 = 10000\n",
    "hop_length = 250\n",
    "sec_frames = []\n",
    "for i in range(0, 29):\n",
    "    sec_frames.append((i+1)*40)\n",
    "\n",
    "# Obtain mfcc\n",
    "for i in range(0, len(totalaudios)):\n",
    "    y, sr = librosa.load(totalaudios[i])\n",
    "    mfcc = librosa.feature.mfcc(y=y, sr=sr1, hop_length=hop_length, n_mfcc=20)\n",
    "    mfcc_delta = librosa.feature.delta(mfcc)\n",
    "    \n",
    "    # Sync to get 1-sec pieces, then tranpose\n",
    "    sec_mfcc = librosa.util.sync(mfcc,sec_frames)\n",
    "    sec_mfcc_delta = librosa.util.sync(mfcc_delta,sec_frames)\n",
    "    sec_mfcc = np.transpose(sec_mfcc)\n",
    "    sec_mfcc_delta = np.transpose(sec_mfcc_delta)\n",
    "    # Add a column to tell every row is strings\n",
    "    all_data = np.hstack((sec_mfcc, sec_mfcc_delta, strings))\n",
    "    myFile = open('E:\\Desktop\\msec_mfcc.csv', 'a')\n",
    "    with myFile:\n",
    "        writer = csv.writer(myFile,lineterminator = '\\n')\n",
    "        writer.writerows(all_data)\n",
    "    #Show progress\n",
    "    print(i if i%5 == 0 else ' ', end = '')\n",
    "\n"
   ]
  },
  {
   "cell_type": "code",
   "execution_count": 42,
   "metadata": {
    "collapsed": true
   },
   "outputs": [],
   "source": [
    "#     with open('E:\\Desktop\\msec_mfcc.csv', 'rb') as incsv:\n",
    "#         reader = csv.reader(incsv)\n",
    "#         writer.writerows(sec_mfcc)\n",
    "#     with open('E:\\Desktop\\msec_mfcc.csv', 'rb') as incsv:\n",
    "#         reader = csv.reader(incsv)\n",
    "#         writer.writerows(sec_mfcc)\n",
    "#     with open('E:\\Desktop\\msec_mfcc.csv', 'rb') as incsv:\n",
    "#         reader = csv.reader(incsv)\n",
    "#         writer.writerows(sec_mfcc)"
   ]
  },
  {
   "cell_type": "code",
   "execution_count": 12,
   "metadata": {
    "collapsed": true
   },
   "outputs": [],
   "source": [
    "# myFile = open('E:\\Desktop\\msec_mfcc.csv', 'w')\n",
    "# with myFile:\n",
    "#     writer = csv.writer(myFile,lineterminator = '\\n')\n",
    "#     writer.writerows(sec_mfcc)\n",
    "# with open('E:\\Desktop\\msec_mfcc.csv', 'w') as csvfile:\n",
    "#     writer1 = csv.DictWriter(csvfile, fieldnames = [\"stuff1\", \"stuff2\", \"stuff3\"])\n",
    "#     writer1.writeheader()\n",
    "#     writer2 = csv.writer(csvfile,lineterminator = '\\n')\n",
    "#     writer2.writerows(sec_mfcc)"
   ]
  },
  {
   "cell_type": "code",
   "execution_count": null,
   "metadata": {
    "collapsed": true
   },
   "outputs": [],
   "source": []
  }
 ],
 "metadata": {
  "kernelspec": {
   "display_name": "Python 3",
   "language": "python",
   "name": "python3"
  },
  "language_info": {
   "codemirror_mode": {
    "name": "ipython",
    "version": 3
   },
   "file_extension": ".py",
   "mimetype": "text/x-python",
   "name": "python",
   "nbconvert_exporter": "python",
   "pygments_lexer": "ipython3",
   "version": "3.6.3"
  }
 },
 "nbformat": 4,
 "nbformat_minor": 2
}
